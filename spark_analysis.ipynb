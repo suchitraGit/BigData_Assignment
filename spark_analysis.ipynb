{
 "cells": [
  {
   "cell_type": "code",
   "execution_count": 1,
   "metadata": {},
   "outputs": [
    {
     "data": {
      "text/html": [
       "\n",
       "        <div>\n",
       "            <p><b>SparkContext</b></p>\n",
       "\n",
       "            <p><a href=\"http://spark-dmo-m.asia-south1-a.c.spark-gcp.internal:4040\">Spark UI</a></p>\n",
       "\n",
       "            <dl>\n",
       "              <dt>Version</dt>\n",
       "                <dd><code>v2.3.2</code></dd>\n",
       "              <dt>Master</dt>\n",
       "                <dd><code>yarn</code></dd>\n",
       "              <dt>AppName</dt>\n",
       "                <dd><code>pyspark-shell</code></dd>\n",
       "            </dl>\n",
       "        </div>\n",
       "        "
      ],
      "text/plain": [
       "<SparkContext master=yarn appName=pyspark-shell>"
      ]
     },
     "execution_count": 1,
     "metadata": {},
     "output_type": "execute_result"
    }
   ],
   "source": [
    "sc"
   ]
  },
  {
   "cell_type": "code",
   "execution_count": 3,
   "metadata": {},
   "outputs": [],
   "source": [
    "from pyspark.sql.types import StringType, StructField, StructType, TimestampType, ArrayType, IntegerType, LongType\n",
    "\n",
    "event_schema = StructType([\n",
    "    StructField(\"timestamp\", StringType()),\n",
    "    StructField(\"visitorid\", IntegerType()),\n",
    "    StructField(\"event\", StringType()),\n",
    "    StructField(\"itemid\", IntegerType()),\n",
    "    StructField(\"transactionid\", IntegerType())\n",
    "])"
   ]
  },
  {
   "cell_type": "code",
   "execution_count": 4,
   "metadata": {},
   "outputs": [],
   "source": [
    "fp = \"gs://dataproc-81e79564-8ae2-4a68-9b71-fbaaa2a28716-asia-south1/spark_data/events.csv\"\n",
    "df = spark.read.csv(fp, header = True, schema = event_schema)"
   ]
  },
  {
   "cell_type": "code",
   "execution_count": 5,
   "metadata": {},
   "outputs": [
    {
     "name": "stdout",
     "output_type": "stream",
     "text": [
      "+-------------+---------+---------+------+-------------+\n",
      "|    timestamp|visitorid|    event|itemid|transactionid|\n",
      "+-------------+---------+---------+------+-------------+\n",
      "|1433221332117|   257597|     view|355908|         null|\n",
      "|1433224214164|   992329|     view|248676|         null|\n",
      "|1433221999827|   111016|     view|318965|         null|\n",
      "|1433221955914|   483717|     view|253185|         null|\n",
      "|1433221337106|   951259|     view|367447|         null|\n",
      "|1433224086234|   972639|     view| 22556|         null|\n",
      "|1433221923240|   810725|     view|443030|         null|\n",
      "|1433223291897|   794181|     view|439202|         null|\n",
      "|1433220899221|   824915|     view|428805|         null|\n",
      "|1433221204592|   339335|     view| 82389|         null|\n",
      "|1433222162373|   176446|     view| 10572|         null|\n",
      "|1433221701252|   929206|     view|410676|         null|\n",
      "|1433224229496|    15795|     view| 44872|         null|\n",
      "|1433223697356|   598426|     view|156489|         null|\n",
      "|1433224078165|   223343|     view|402625|         null|\n",
      "|1433222531378|    57036|     view|334662|         null|\n",
      "|1433223239808|  1377281|     view|251467|         null|\n",
      "|1433223236124|   287857|addtocart|  5206|         null|\n",
      "|1433224244282|  1370216|     view|176721|         null|\n",
      "|1433221078505|   158090|addtocart| 10572|         null|\n",
      "+-------------+---------+---------+------+-------------+\n",
      "only showing top 20 rows\n",
      "\n"
     ]
    }
   ],
   "source": [
    "df.show()"
   ]
  },
  {
   "cell_type": "code",
   "execution_count": 6,
   "metadata": {},
   "outputs": [
    {
     "name": "stdout",
     "output_type": "stream",
     "text": [
      "root\n",
      " |-- timestamp: string (nullable = true)\n",
      " |-- visitorid: integer (nullable = true)\n",
      " |-- event: string (nullable = true)\n",
      " |-- itemid: integer (nullable = true)\n",
      " |-- transactionid: integer (nullable = true)\n",
      "\n"
     ]
    }
   ],
   "source": [
    "df.printSchema()"
   ]
  },
  {
   "cell_type": "code",
   "execution_count": 7,
   "metadata": {},
   "outputs": [],
   "source": [
    "from pyspark.sql import functions as f\n",
    "from pyspark.sql import types as t"
   ]
  },
  {
   "cell_type": "code",
   "execution_count": 8,
   "metadata": {},
   "outputs": [],
   "source": [
    "format = \"yyyy-MM-dd HH:mm:ss\"\n",
    "df = df.withColumn('timestamp2', f.from_unixtime(df.timestamp/1000).cast(TimestampType()))\n"
   ]
  },
  {
   "cell_type": "code",
   "execution_count": 9,
   "metadata": {},
   "outputs": [
    {
     "name": "stdout",
     "output_type": "stream",
     "text": [
      "+-------------+---------+---------+------+-------------+-------------------+\n",
      "|    timestamp|visitorid|    event|itemid|transactionid|         timestamp2|\n",
      "+-------------+---------+---------+------+-------------+-------------------+\n",
      "|1433221332117|   257597|     view|355908|         null|2015-06-02 05:02:12|\n",
      "|1433224214164|   992329|     view|248676|         null|2015-06-02 05:50:14|\n",
      "|1433221999827|   111016|     view|318965|         null|2015-06-02 05:13:19|\n",
      "|1433221955914|   483717|     view|253185|         null|2015-06-02 05:12:35|\n",
      "|1433221337106|   951259|     view|367447|         null|2015-06-02 05:02:17|\n",
      "|1433224086234|   972639|     view| 22556|         null|2015-06-02 05:48:06|\n",
      "|1433221923240|   810725|     view|443030|         null|2015-06-02 05:12:03|\n",
      "|1433223291897|   794181|     view|439202|         null|2015-06-02 05:34:51|\n",
      "|1433220899221|   824915|     view|428805|         null|2015-06-02 04:54:59|\n",
      "|1433221204592|   339335|     view| 82389|         null|2015-06-02 05:00:04|\n",
      "|1433222162373|   176446|     view| 10572|         null|2015-06-02 05:16:02|\n",
      "|1433221701252|   929206|     view|410676|         null|2015-06-02 05:08:21|\n",
      "|1433224229496|    15795|     view| 44872|         null|2015-06-02 05:50:29|\n",
      "|1433223697356|   598426|     view|156489|         null|2015-06-02 05:41:37|\n",
      "|1433224078165|   223343|     view|402625|         null|2015-06-02 05:47:58|\n",
      "|1433222531378|    57036|     view|334662|         null|2015-06-02 05:22:11|\n",
      "|1433223239808|  1377281|     view|251467|         null|2015-06-02 05:33:59|\n",
      "|1433223236124|   287857|addtocart|  5206|         null|2015-06-02 05:33:56|\n",
      "|1433224244282|  1370216|     view|176721|         null|2015-06-02 05:50:44|\n",
      "|1433221078505|   158090|addtocart| 10572|         null|2015-06-02 04:57:58|\n",
      "+-------------+---------+---------+------+-------------+-------------------+\n",
      "only showing top 20 rows\n",
      "\n"
     ]
    }
   ],
   "source": [
    "df.show()"
   ]
  },
  {
   "cell_type": "code",
   "execution_count": 10,
   "metadata": {},
   "outputs": [
    {
     "data": {
      "text/plain": [
       "pyspark.sql.dataframe.DataFrame"
      ]
     },
     "execution_count": 10,
     "metadata": {},
     "output_type": "execute_result"
    }
   ],
   "source": [
    "type(df)"
   ]
  },
  {
   "cell_type": "code",
   "execution_count": 11,
   "metadata": {},
   "outputs": [],
   "source": [
    "df = df.drop('timestamp')"
   ]
  },
  {
   "cell_type": "code",
   "execution_count": 12,
   "metadata": {},
   "outputs": [
    {
     "name": "stdout",
     "output_type": "stream",
     "text": [
      "+---------+---------+------+-------------+-------------------+\n",
      "|visitorid|    event|itemid|transactionid|          timestamp|\n",
      "+---------+---------+------+-------------+-------------------+\n",
      "|   257597|     view|355908|         null|2015-06-02 05:02:12|\n",
      "|   992329|     view|248676|         null|2015-06-02 05:50:14|\n",
      "|   111016|     view|318965|         null|2015-06-02 05:13:19|\n",
      "|   483717|     view|253185|         null|2015-06-02 05:12:35|\n",
      "|   951259|     view|367447|         null|2015-06-02 05:02:17|\n",
      "|   972639|     view| 22556|         null|2015-06-02 05:48:06|\n",
      "|   810725|     view|443030|         null|2015-06-02 05:12:03|\n",
      "|   794181|     view|439202|         null|2015-06-02 05:34:51|\n",
      "|   824915|     view|428805|         null|2015-06-02 04:54:59|\n",
      "|   339335|     view| 82389|         null|2015-06-02 05:00:04|\n",
      "|   176446|     view| 10572|         null|2015-06-02 05:16:02|\n",
      "|   929206|     view|410676|         null|2015-06-02 05:08:21|\n",
      "|    15795|     view| 44872|         null|2015-06-02 05:50:29|\n",
      "|   598426|     view|156489|         null|2015-06-02 05:41:37|\n",
      "|   223343|     view|402625|         null|2015-06-02 05:47:58|\n",
      "|    57036|     view|334662|         null|2015-06-02 05:22:11|\n",
      "|  1377281|     view|251467|         null|2015-06-02 05:33:59|\n",
      "|   287857|addtocart|  5206|         null|2015-06-02 05:33:56|\n",
      "|  1370216|     view|176721|         null|2015-06-02 05:50:44|\n",
      "|   158090|addtocart| 10572|         null|2015-06-02 04:57:58|\n",
      "+---------+---------+------+-------------+-------------------+\n",
      "only showing top 20 rows\n",
      "\n"
     ]
    }
   ],
   "source": [
    "df = df.withColumnRenamed('timestamp2', 'timestamp')\n",
    "df.show()"
   ]
  },
  {
   "cell_type": "code",
   "execution_count": 13,
   "metadata": {},
   "outputs": [
    {
     "name": "stdout",
     "output_type": "stream",
     "text": [
      "+---------+---------+------+-------------+-------------------+\n",
      "|visitorid|    event|itemid|transactionid|          timestamp|\n",
      "+---------+---------+------+-------------+-------------------+\n",
      "|   257597|     view|355908|         null|2015-06-02 05:02:12|\n",
      "|   992329|     view|248676|         null|2015-06-02 05:50:14|\n",
      "|   111016|     view|318965|         null|2015-06-02 05:13:19|\n",
      "|   483717|     view|253185|         null|2015-06-02 05:12:35|\n",
      "|   951259|     view|367447|         null|2015-06-02 05:02:17|\n",
      "|   972639|     view| 22556|         null|2015-06-02 05:48:06|\n",
      "|   810725|     view|443030|         null|2015-06-02 05:12:03|\n",
      "|   794181|     view|439202|         null|2015-06-02 05:34:51|\n",
      "|   824915|     view|428805|         null|2015-06-02 04:54:59|\n",
      "|   339335|     view| 82389|         null|2015-06-02 05:00:04|\n",
      "|   176446|     view| 10572|         null|2015-06-02 05:16:02|\n",
      "|   929206|     view|410676|         null|2015-06-02 05:08:21|\n",
      "|    15795|     view| 44872|         null|2015-06-02 05:50:29|\n",
      "|   598426|     view|156489|         null|2015-06-02 05:41:37|\n",
      "|   223343|     view|402625|         null|2015-06-02 05:47:58|\n",
      "|    57036|     view|334662|         null|2015-06-02 05:22:11|\n",
      "|  1377281|     view|251467|         null|2015-06-02 05:33:59|\n",
      "|   287857|addtocart|  5206|         null|2015-06-02 05:33:56|\n",
      "|  1370216|     view|176721|         null|2015-06-02 05:50:44|\n",
      "|   158090|addtocart| 10572|         null|2015-06-02 04:57:58|\n",
      "+---------+---------+------+-------------+-------------------+\n",
      "only showing top 20 rows\n",
      "\n"
     ]
    }
   ],
   "source": [
    "df.show()"
   ]
  },
  {
   "cell_type": "code",
   "execution_count": 14,
   "metadata": {},
   "outputs": [
    {
     "name": "stdout",
     "output_type": "stream",
     "text": [
      "root\n",
      " |-- visitorid: integer (nullable = true)\n",
      " |-- event: string (nullable = true)\n",
      " |-- itemid: integer (nullable = true)\n",
      " |-- transactionid: integer (nullable = true)\n",
      " |-- timestamp: timestamp (nullable = true)\n",
      "\n"
     ]
    }
   ],
   "source": [
    "df.printSchema()"
   ]
  },
  {
   "cell_type": "code",
   "execution_count": 15,
   "metadata": {},
   "outputs": [],
   "source": [
    "dfs = df.sample(fraction= 0.005)"
   ]
  },
  {
   "cell_type": "code",
   "execution_count": 16,
   "metadata": {},
   "outputs": [
    {
     "name": "stdout",
     "output_type": "stream",
     "text": [
      "+---------+-----+------+-------------+-------------------+\n",
      "|visitorid|event|itemid|transactionid|          timestamp|\n",
      "+---------+-----+------+-------------+-------------------+\n",
      "|    11598| view| 62549|         null|2015-06-01 21:13:16|\n",
      "|   209390| view| 67487|         null|2015-06-01 21:36:20|\n",
      "|  1296338| view|147825|         null|2015-06-01 16:00:23|\n",
      "|   234299| view|369179|         null|2015-06-01 17:58:21|\n",
      "|   412017| view|340093|         null|2015-06-01 17:53:56|\n",
      "|   146980| view|413990|         null|2015-06-01 17:46:41|\n",
      "|   393609| view|147662|         null|2015-06-01 17:24:28|\n",
      "|   465556| view|272897|         null|2015-06-01 23:49:07|\n",
      "|   661192| view|145995|         null|2015-06-01 23:19:52|\n",
      "|  1278847| view| 60621|         null|2015-06-02 01:50:17|\n",
      "|   717876| view|189270|         null|2015-06-02 01:56:46|\n",
      "|   519385| view|106848|         null|2015-06-02 02:12:17|\n",
      "|  1294301| view|370653|         null|2015-06-01 19:54:57|\n",
      "|   759071| view|138115|         null|2015-06-01 19:52:57|\n",
      "|   189869| view|285411|         null|2015-06-01 20:21:00|\n",
      "|   586540| view| 52080|         null|2015-06-01 20:17:18|\n",
      "|  1030058| view|183178|         null|2015-06-01 20:16:52|\n",
      "|   620967| view|417464|         null|2015-06-01 08:13:24|\n",
      "|  1112988| view|298196|         null|2015-06-01 06:32:03|\n",
      "|  1086719| view|440248|         null|2015-06-01 09:42:39|\n",
      "+---------+-----+------+-------------+-------------------+\n",
      "only showing top 20 rows\n",
      "\n"
     ]
    }
   ],
   "source": [
    "dfs.show()"
   ]
  },
  {
   "cell_type": "code",
   "execution_count": 17,
   "metadata": {},
   "outputs": [],
   "source": [
    "from pyspark.sql.functions import count\n",
    "dfsgb = dfs.groupBy([\"visitorid\", \"itemid\"]).agg(count(\"timestamp\").alias(\"interactions\"))"
   ]
  },
  {
   "cell_type": "code",
   "execution_count": 18,
   "metadata": {},
   "outputs": [
    {
     "name": "stdout",
     "output_type": "stream",
     "text": [
      "+---------+------+------------+\n",
      "|visitorid|itemid|interactions|\n",
      "+---------+------+------------+\n",
      "|   387301|260707|           1|\n",
      "|   130549|367059|           1|\n",
      "|   329988|280685|           1|\n",
      "|   754613|283218|           1|\n",
      "|   447572|293231|           1|\n",
      "|   947917|256432|           1|\n",
      "|   651022|407952|           1|\n",
      "|   948732| 19423|           1|\n",
      "|   684514|148446|           1|\n",
      "|   644514| 50910|           1|\n",
      "|   735167|429094|           1|\n",
      "|  1243742| 62734|           1|\n",
      "|   246596|161571|           1|\n",
      "|   953029|  8233|           1|\n",
      "|  1072182|351535|           1|\n",
      "|   907226|202355|           1|\n",
      "|   437368| 68415|           1|\n",
      "|   535621| 71530|           1|\n",
      "|   186000|240170|           1|\n",
      "|   530559|337671|           1|\n",
      "+---------+------+------------+\n",
      "only showing top 20 rows\n",
      "\n"
     ]
    }
   ],
   "source": [
    "dfsgb.show()"
   ]
  },
  {
   "cell_type": "code",
   "execution_count": 19,
   "metadata": {},
   "outputs": [
    {
     "name": "stdout",
     "output_type": "stream",
     "text": [
      "+-----------------+\n",
      "|max(interactions)|\n",
      "+-----------------+\n",
      "|                3|\n",
      "+-----------------+\n",
      "\n"
     ]
    }
   ],
   "source": [
    "from pyspark.sql.functions import max, min\n",
    "dfsgb.agg(max(\"interactions\")).show()"
   ]
  },
  {
   "cell_type": "code",
   "execution_count": 20,
   "metadata": {},
   "outputs": [],
   "source": [
    "dfsui = dfs.groupby(\"visitorid\").agg(count(\"timestamp\").alias(\"total_user_interaction_count\"))"
   ]
  },
  {
   "cell_type": "code",
   "execution_count": 21,
   "metadata": {},
   "outputs": [
    {
     "name": "stdout",
     "output_type": "stream",
     "text": [
      "+---------------------------------+\n",
      "|max(total_user_interaction_count)|\n",
      "+---------------------------------+\n",
      "|                               41|\n",
      "+---------------------------------+\n",
      "\n"
     ]
    }
   ],
   "source": [
    "dfsui.agg(max(\"total_user_interaction_count\")).show()"
   ]
  },
  {
   "cell_type": "code",
   "execution_count": 22,
   "metadata": {},
   "outputs": [
    {
     "name": "stdout",
     "output_type": "stream",
     "text": [
      "+-------------------------+\n",
      "|count(DISTINCT visitorid)|\n",
      "+-------------------------+\n",
      "|                    13113|\n",
      "+-------------------------+\n",
      "\n"
     ]
    }
   ],
   "source": [
    "from pyspark.sql.functions import col, countDistinct\n",
    "dfs.agg(countDistinct(\"visitorid\")).show()"
   ]
  },
  {
   "cell_type": "code",
   "execution_count": 23,
   "metadata": {},
   "outputs": [
    {
     "name": "stdout",
     "output_type": "stream",
     "text": [
      "+----------------------+\n",
      "|count(DISTINCT itemid)|\n",
      "+----------------------+\n",
      "|                 11269|\n",
      "+----------------------+\n",
      "\n"
     ]
    }
   ],
   "source": [
    "dfs.agg(countDistinct(\"itemid\")).show()"
   ]
  },
  {
   "cell_type": "code",
   "execution_count": 24,
   "metadata": {
    "scrolled": true
   },
   "outputs": [
    {
     "data": {
      "text/plain": [
       "pyspark.sql.dataframe.DataFrame"
      ]
     },
     "execution_count": 24,
     "metadata": {},
     "output_type": "execute_result"
    }
   ],
   "source": [
    "type(dfsgb)"
   ]
  },
  {
   "cell_type": "code",
   "execution_count": 25,
   "metadata": {},
   "outputs": [],
   "source": [
    "from pyspark.sql.functions import *\n",
    "\n",
    "df1 = dfsgb.alias('df1')\n",
    "df2 = dfsui.alias('df2')"
   ]
  },
  {
   "cell_type": "code",
   "execution_count": 26,
   "metadata": {},
   "outputs": [],
   "source": [
    "dfr = df1.join(df2, df1.visitorid == df2.visitorid).select('df1.*', 'df2.total_user_interaction_count')"
   ]
  },
  {
   "cell_type": "code",
   "execution_count": 27,
   "metadata": {},
   "outputs": [],
   "source": [
    "dfr = dfr.withColumn('rui', dfr.interactions/dfr.total_user_interaction_count)"
   ]
  },
  {
   "cell_type": "code",
   "execution_count": 28,
   "metadata": {},
   "outputs": [
    {
     "name": "stdout",
     "output_type": "stream",
     "text": [
      "+--------------------+\n",
      "|            min(rui)|\n",
      "+--------------------+\n",
      "|0.024390243902439025|\n",
      "+--------------------+\n",
      "\n"
     ]
    }
   ],
   "source": [
    "dfr.agg(min(\"rui\")).show()"
   ]
  },
  {
   "cell_type": "code",
   "execution_count": 29,
   "metadata": {},
   "outputs": [
    {
     "name": "stdout",
     "output_type": "stream",
     "text": [
      "+------------------+\n",
      "|          avg(rui)|\n",
      "+------------------+\n",
      "|0.9502173913043478|\n",
      "+------------------+\n",
      "\n"
     ]
    }
   ],
   "source": [
    "from pyspark.sql.functions import mean\n",
    "dfr.agg(mean(\"rui\")).show()"
   ]
  },
  {
   "cell_type": "code",
   "execution_count": 30,
   "metadata": {},
   "outputs": [
    {
     "data": {
      "text/plain": [
       "[0.024390243902439025, 0.024390243902439025, 1.0, 1.0, 1.0]"
      ]
     },
     "execution_count": 30,
     "metadata": {},
     "output_type": "execute_result"
    }
   ],
   "source": [
    "dfr.approxQuantile(\"rui\", [0.1, 0.2, 0.3, 0.4, 0.5], 0.25)"
   ]
  },
  {
   "cell_type": "code",
   "execution_count": 31,
   "metadata": {},
   "outputs": [
    {
     "name": "stdout",
     "output_type": "stream",
     "text": [
      "+-----------+-----+\n",
      "|      event|count|\n",
      "+-----------+-----+\n",
      "|transaction|  123|\n",
      "|  addtocart|  334|\n",
      "|       view|13387|\n",
      "+-----------+-----+\n",
      "\n"
     ]
    }
   ],
   "source": [
    "dfs.groupBy(\"event\").count().show()"
   ]
  },
  {
   "cell_type": "code",
   "execution_count": 32,
   "metadata": {},
   "outputs": [],
   "source": [
    "def assign_ratings(e):\n",
    "    \n",
    "    rating = 0\n",
    "    if e == \"view\":\n",
    "        rating = 2\n",
    "    else:\n",
    "        rating = 5\n",
    "    \n",
    "    return rating"
   ]
  },
  {
   "cell_type": "code",
   "execution_count": 33,
   "metadata": {},
   "outputs": [
    {
     "name": "stdout",
     "output_type": "stream",
     "text": [
      "+-------+\n",
      "|ratings|\n",
      "+-------+\n",
      "|      2|\n",
      "|      2|\n",
      "|      2|\n",
      "|      2|\n",
      "|      2|\n",
      "|      2|\n",
      "|      2|\n",
      "|      2|\n",
      "|      2|\n",
      "|      2|\n",
      "|      2|\n",
      "|      2|\n",
      "|      2|\n",
      "|      2|\n",
      "|      2|\n",
      "|      2|\n",
      "|      2|\n",
      "|      2|\n",
      "|      2|\n",
      "|      2|\n",
      "+-------+\n",
      "only showing top 20 rows\n",
      "\n"
     ]
    }
   ],
   "source": [
    "from pyspark.sql import Row\n",
    "dfs.select(\"event\").rdd.map(lambda x : assign_ratings(x[0])).map(lambda x: Row(x)).toDF([\"ratings\"]).show()"
   ]
  },
  {
   "cell_type": "code",
   "execution_count": 34,
   "metadata": {},
   "outputs": [],
   "source": [
    "from pyspark.sql.functions import col, when\n",
    "dfs = dfs.withColumn(\"ratings\", when(col(\"event\")=='view', 2).otherwise(5))"
   ]
  },
  {
   "cell_type": "code",
   "execution_count": 35,
   "metadata": {},
   "outputs": [
    {
     "data": {
      "text/plain": [
       "13620"
      ]
     },
     "execution_count": 35,
     "metadata": {},
     "output_type": "execute_result"
    }
   ],
   "source": [
    "dfs.rdd.countApproxDistinct()"
   ]
  },
  {
   "cell_type": "code",
   "execution_count": null,
   "metadata": {},
   "outputs": [],
   "source": []
  }
 ],
 "metadata": {
  "kernelspec": {
   "display_name": "PySpark",
   "language": "python",
   "name": "pyspark"
  },
  "language_info": {
   "codemirror_mode": {
    "name": "ipython",
    "version": 3
   },
   "file_extension": ".py",
   "mimetype": "text/x-python",
   "name": "python",
   "nbconvert_exporter": "python",
   "pygments_lexer": "ipython3",
   "version": "3.6.5"
  }
 },
 "nbformat": 4,
 "nbformat_minor": 2
}
