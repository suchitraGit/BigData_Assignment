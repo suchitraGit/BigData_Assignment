{
 "cells": [
  {
   "cell_type": "code",
   "execution_count": 1,
   "metadata": {},
   "outputs": [
    {
     "data": {
      "text/html": [
       "\n",
       "        <div>\n",
       "            <p><b>SparkContext</b></p>\n",
       "\n",
       "            <p><a href=\"http://spark-dmo-m.asia-south1-a.c.spark-gcp.internal:4041\">Spark UI</a></p>\n",
       "\n",
       "            <dl>\n",
       "              <dt>Version</dt>\n",
       "                <dd><code>v2.3.2</code></dd>\n",
       "              <dt>Master</dt>\n",
       "                <dd><code>yarn</code></dd>\n",
       "              <dt>AppName</dt>\n",
       "                <dd><code>pyspark-shell</code></dd>\n",
       "            </dl>\n",
       "        </div>\n",
       "        "
      ],
      "text/plain": [
       "<SparkContext master=yarn appName=pyspark-shell>"
      ]
     },
     "execution_count": 1,
     "metadata": {},
     "output_type": "execute_result"
    }
   ],
   "source": [
    "sc"
   ]
  },
  {
   "cell_type": "code",
   "execution_count": 2,
   "metadata": {},
   "outputs": [],
   "source": [
    "#import os\n",
    "#os.chdir(\"/home/admin2/activity_description/data/\")"
   ]
  },
  {
   "cell_type": "code",
   "execution_count": 3,
   "metadata": {},
   "outputs": [],
   "source": [
    "from pyspark.sql.types import StringType, StructField, StructType, TimestampType, ArrayType, IntegerType, LongType, FloatType\n",
    "\n",
    "event_schema = StructType([\n",
    "    StructField(\"Index\", IntegerType()),\n",
    "    StructField(\"Arrival_Time\", StringType()),\n",
    "    StructField(\"Creation_Time\", StringType()),\n",
    "    StructField(\"x\", FloatType()),\n",
    "    StructField(\"y\", FloatType()),\n",
    "    StructField(\"z\", FloatType()),\n",
    "    StructField(\"User\", StringType()),\n",
    "    StructField(\"Model\", StringType()),\n",
    "    StructField(\"Device\", StringType()),\n",
    "    StructField(\"gt\", StringType())\n",
    "])"
   ]
  },
  {
   "cell_type": "code",
   "execution_count": 4,
   "metadata": {},
   "outputs": [],
   "source": [
    "fp = \"gs://dataproc-81e79564-8ae2-4a68-9b71-fbaaa2a28716-asia-south1/spark_data/Phones_accelerometer.csv\"\n",
    "df = spark.read.csv(fp, header = True, schema = event_schema)"
   ]
  },
  {
   "cell_type": "code",
   "execution_count": 5,
   "metadata": {},
   "outputs": [
    {
     "data": {
      "text/plain": [
       "pyspark.sql.dataframe.DataFrame"
      ]
     },
     "execution_count": 5,
     "metadata": {},
     "output_type": "execute_result"
    }
   ],
   "source": [
    "type(df)"
   ]
  },
  {
   "cell_type": "code",
   "execution_count": 6,
   "metadata": {},
   "outputs": [
    {
     "name": "stdout",
     "output_type": "stream",
     "text": [
      "root\n",
      " |-- Index: integer (nullable = true)\n",
      " |-- Arrival_Time: string (nullable = true)\n",
      " |-- Creation_Time: string (nullable = true)\n",
      " |-- x: float (nullable = true)\n",
      " |-- y: float (nullable = true)\n",
      " |-- z: float (nullable = true)\n",
      " |-- User: string (nullable = true)\n",
      " |-- Model: string (nullable = true)\n",
      " |-- Device: string (nullable = true)\n",
      " |-- gt: string (nullable = true)\n",
      "\n"
     ]
    }
   ],
   "source": [
    "df.printSchema()"
   ]
  },
  {
   "cell_type": "code",
   "execution_count": 7,
   "metadata": {},
   "outputs": [],
   "source": [
    "from pyspark.sql import functions as f\n",
    "from pyspark.sql import types as t\n",
    "\n",
    "format = \"yyyy-MM-dd HH:mm:ss\"\n",
    "df = df.withColumn('Arrival_Time_TS', f.from_unixtime(df.Arrival_Time/1000).cast(TimestampType()))\n",
    "df = df.withColumn('Creation_Time_TS', f.from_unixtime(df.Creation_Time/1000).cast(TimestampType()))"
   ]
  },
  {
   "cell_type": "code",
   "execution_count": 8,
   "metadata": {},
   "outputs": [
    {
     "name": "stdout",
     "output_type": "stream",
     "text": [
      "root\n",
      " |-- Index: integer (nullable = true)\n",
      " |-- Arrival_Time: string (nullable = true)\n",
      " |-- Creation_Time: string (nullable = true)\n",
      " |-- x: float (nullable = true)\n",
      " |-- y: float (nullable = true)\n",
      " |-- z: float (nullable = true)\n",
      " |-- User: string (nullable = true)\n",
      " |-- Model: string (nullable = true)\n",
      " |-- Device: string (nullable = true)\n",
      " |-- gt: string (nullable = true)\n",
      " |-- Arrival_Time_TS: timestamp (nullable = true)\n",
      " |-- Creation_Time_TS: timestamp (nullable = true)\n",
      "\n"
     ]
    }
   ],
   "source": [
    "df.printSchema()"
   ]
  },
  {
   "cell_type": "code",
   "execution_count": 9,
   "metadata": {},
   "outputs": [],
   "source": [
    "cols_to_drop = [\"Arrival_Time\", \"Creation_Time\"]\n",
    "df = df.drop(*cols_to_drop)"
   ]
  },
  {
   "cell_type": "code",
   "execution_count": 10,
   "metadata": {},
   "outputs": [
    {
     "name": "stdout",
     "output_type": "stream",
     "text": [
      "+-----+----------+----------+---------+----+------+--------+-----+-------------------+----------------+\n",
      "|Index|         x|         y|        z|User| Model|  Device|   gt|    Arrival_Time_TS|Creation_Time_TS|\n",
      "+-----+----------+----------+---------+----+------+--------+-----+-------------------+----------------+\n",
      "|    0| -5.958191| 0.6880646| 8.135345|   a|nexus4|nexus4_1|stand|2015-02-23 13:03:53|            null|\n",
      "|    1|  -5.95224| 0.6702118| 8.136536|   a|nexus4|nexus4_1|stand|2015-02-23 13:03:53|            null|\n",
      "|    2|-5.9950867| 0.6535492| 8.204376|   a|nexus4|nexus4_1|stand|2015-02-23 13:03:53|            null|\n",
      "|    3|-5.9427185| 0.6761627| 8.128204|   a|nexus4|nexus4_1|stand|2015-02-23 13:03:53|            null|\n",
      "|    4| -5.991516|0.64164734| 8.135345|   a|nexus4|nexus4_1|stand|2015-02-23 13:03:53|            null|\n",
      "|    5| -5.965332| 0.6297455| 8.128204|   a|nexus4|nexus4_1|stand|2015-02-23 13:03:53|            null|\n",
      "|    6| -5.991516| 0.6356964|  8.16272|   a|nexus4|nexus4_1|stand|2015-02-23 13:03:53|            null|\n",
      "|    7| -5.915344|0.63093567| 8.105591|   a|nexus4|nexus4_1|stand|2015-02-23 13:03:53|            null|\n",
      "|    8| -5.984375| 0.6940155| 8.067505|   a|nexus4|nexus4_1|stand|2015-02-23 13:03:53|            null|\n",
      "|    9| -5.937958|0.71543884| 8.090118|   a|nexus4|nexus4_1|stand|2015-02-23 13:03:53|            null|\n",
      "|   10| -5.902252| 0.6678314| 8.069885|   a|nexus4|nexus4_1|stand|2015-02-23 13:03:53|            null|\n",
      "|   11|-5.9498596|0.68092346| 8.119873|   a|nexus4|nexus4_1|stand|2015-02-23 13:03:53|            null|\n",
      "|   12|-5.9796143| 0.7416229|8.0841675|   a|nexus4|nexus4_1|stand|2015-02-23 13:03:53|            null|\n",
      "|   13|-5.9617615|0.71424866| 8.155579|   a|nexus4|nexus4_1|stand|2015-02-23 13:03:53|            null|\n",
      "|   14|  -5.95343| 0.7130585| 8.153198|   a|nexus4|nexus4_1|stand|2015-02-23 13:03:53|            null|\n",
      "|   15|-5.8665466| 0.7344818|  8.10083|   a|nexus4|nexus4_1|stand|2015-02-23 13:03:53|            null|\n",
      "|   16| -5.901062| 0.7582855| 8.081787|   a|nexus4|nexus4_1|stand|2015-02-23 13:03:53|            null|\n",
      "|   17|-5.8713074| 0.7190094| 8.192474|   a|nexus4|nexus4_1|stand|2015-02-23 13:03:53|            null|\n",
      "|   18| -5.932007|0.67259216| 8.185333|   a|nexus4|nexus4_1|stand|2015-02-23 13:03:54|            null|\n",
      "|   19| -5.895111| 0.6797333| 8.132965|   a|nexus4|nexus4_1|stand|2015-02-23 13:03:54|            null|\n",
      "+-----+----------+----------+---------+----+------+--------+-----+-------------------+----------------+\n",
      "only showing top 20 rows\n",
      "\n"
     ]
    }
   ],
   "source": [
    "df.show()"
   ]
  },
  {
   "cell_type": "code",
   "execution_count": 11,
   "metadata": {},
   "outputs": [
    {
     "name": "stdout",
     "output_type": "stream",
     "text": [
      "root\n",
      " |-- Index: integer (nullable = true)\n",
      " |-- x: float (nullable = true)\n",
      " |-- y: float (nullable = true)\n",
      " |-- z: float (nullable = true)\n",
      " |-- User: string (nullable = true)\n",
      " |-- Model: string (nullable = true)\n",
      " |-- Device: string (nullable = true)\n",
      " |-- gt: string (nullable = true)\n",
      " |-- Arrival_Time_TS: timestamp (nullable = true)\n",
      " |-- Creation_Time_TS: timestamp (nullable = true)\n",
      "\n"
     ]
    }
   ],
   "source": [
    "df.printSchema()"
   ]
  },
  {
   "cell_type": "code",
   "execution_count": 12,
   "metadata": {},
   "outputs": [],
   "source": [
    "from pyspark.sql import SQLContext, Row\n",
    "df.registerTempTable(\"activities\")\n",
    "sqlContext = SQLContext(sc)\n",
    "df_user_e = sqlContext.sql(\"SELECT * FROM activities WHERE User == 'e'\")"
   ]
  },
  {
   "cell_type": "code",
   "execution_count": 13,
   "metadata": {},
   "outputs": [
    {
     "data": {
      "text/plain": [
       "pyspark.sql.dataframe.DataFrame"
      ]
     },
     "execution_count": 13,
     "metadata": {},
     "output_type": "execute_result"
    }
   ],
   "source": [
    "type(df_user_e)"
   ]
  },
  {
   "cell_type": "code",
   "execution_count": 14,
   "metadata": {},
   "outputs": [
    {
     "name": "stdout",
     "output_type": "stream",
     "text": [
      "+-----+----------+-----------+----------+----+------+--------+-----+-------------------+----------------+\n",
      "|Index|         x|          y|         z|User| Model|  Device|   gt|    Arrival_Time_TS|Creation_Time_TS|\n",
      "+-----+----------+-----------+----------+----+------+--------+-----+-------------------+----------------+\n",
      "|    0|-2.0448608|-0.23313904|  9.965851|   e|nexus4|nexus4_1|stand|2015-02-24 14:13:09|            null|\n",
      "|    1|-2.0412903|-0.29740906| 9.9765625|   e|nexus4|nexus4_1|stand|2015-02-24 14:13:09|            null|\n",
      "|    2| -2.065094| -0.2771759| 10.005127|   e|nexus4|nexus4_1|stand|2015-02-24 14:13:09|            null|\n",
      "|    3|-2.0853271|-0.27360535|  9.926575|   e|nexus4|nexus4_1|stand|2015-02-24 14:13:09|            null|\n",
      "|    4|-2.0567627|-0.21290588|  9.992035|   e|nexus4|nexus4_1|stand|2015-02-24 14:13:09|            null|\n",
      "|    5| -2.057953|-0.22480774|  9.986084|   e|nexus4|nexus4_1|stand|2015-02-24 14:13:09|            null|\n",
      "|    6|-2.0960388|-0.20933533| 10.006317|   e|nexus4|nexus4_1|stand|2015-02-24 14:13:09|            null|\n",
      "|    7|-2.1127014|-0.22242737|  9.970612|   e|nexus4|nexus4_1|stand|2015-02-24 14:13:09|            null|\n",
      "|    8|-2.1317444|-0.21052551|  9.950378|   e|nexus4|nexus4_1|stand|2015-02-24 14:13:09|            null|\n",
      "|    9|-2.1127014|-0.18553162|  9.996796|   e|nexus4|nexus4_1|stand|2015-02-24 14:13:09|            null|\n",
      "|   10|-2.1365051|-0.14863586| 10.042023|   e|nexus4|nexus4_1|stand|2015-02-24 14:13:09|            null|\n",
      "|   11|-2.1115112|-0.18077087| 10.020599|   e|nexus4|nexus4_1|stand|2015-02-24 14:13:09|            null|\n",
      "|   12|-2.1376953|-0.15815735| 10.080109|   e|nexus4|nexus4_1|stand|2015-02-24 14:13:09|            null|\n",
      "|   13|-2.1007996|-0.12245178|  9.939667|   e|nexus4|nexus4_1|stand|2015-02-24 14:13:09|            null|\n",
      "|   14|-2.0877075| -0.1295929|  9.938477|   e|nexus4|nexus4_1|stand|2015-02-24 14:13:09|            null|\n",
      "|   15|-2.0769958|-0.13554382| 10.056305|   e|nexus4|nexus4_1|stand|2015-02-24 14:13:09|            null|\n",
      "|   16|-2.1376953|-0.14030457|10.0408325|   e|nexus4|nexus4_1|stand|2015-02-24 14:13:09|            null|\n",
      "|   17|-2.1448364|-0.16053772|  9.909912|   e|nexus4|nexus4_1|stand|2015-02-24 14:13:09|            null|\n",
      "|   18|-2.1269836|-0.18791199| 10.051544|   e|nexus4|nexus4_1|stand|2015-02-24 14:13:09|            null|\n",
      "|   19|-2.1698303|-0.19743347| 10.019409|   e|nexus4|nexus4_1|stand|2015-02-24 14:13:09|            null|\n",
      "+-----+----------+-----------+----------+----+------+--------+-----+-------------------+----------------+\n",
      "only showing top 20 rows\n",
      "\n"
     ]
    }
   ],
   "source": [
    "df_user_e.show()"
   ]
  },
  {
   "cell_type": "code",
   "execution_count": null,
   "metadata": {},
   "outputs": [],
   "source": []
  }
 ],
 "metadata": {
  "kernelspec": {
   "display_name": "PySpark",
   "language": "python",
   "name": "pyspark"
  },
  "language_info": {
   "codemirror_mode": {
    "name": "ipython",
    "version": 3
   },
   "file_extension": ".py",
   "mimetype": "text/x-python",
   "name": "python",
   "nbconvert_exporter": "python",
   "pygments_lexer": "ipython3",
   "version": "3.6.5"
  }
 },
 "nbformat": 4,
 "nbformat_minor": 1
}
